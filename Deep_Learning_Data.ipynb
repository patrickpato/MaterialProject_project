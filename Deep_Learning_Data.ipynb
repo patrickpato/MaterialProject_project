{
 "cells": [
  {
   "cell_type": "code",
   "execution_count": 1,
   "metadata": {},
   "outputs": [
    {
     "name": "stderr",
     "output_type": "stream",
     "text": [
      "/usr/local/lib/python3.6/dist-packages/requests/__init__.py:91: RequestsDependencyWarning: urllib3 (1.26.2) or chardet (3.0.4) doesn't match a supported version!\n",
      "  RequestsDependencyWarning)\n"
     ]
    }
   ],
   "source": [
    "from pymatgen import MPRester\n",
    "import pandas as pd\n",
    "from pymatgen import Structure\n",
    "import json\n",
    "m = MPRester('lh8Nu9sPc6U1Vxkn')"
   ]
  },
  {
   "cell_type": "code",
   "execution_count": 2,
   "metadata": {},
   "outputs": [],
   "source": [
    "class MaterialsMiner():\n",
    "    def __init__(self):\n",
    "        pass\n",
    "    def materials_class(self):\n",
    "        '''\n",
    "        This function allows one to define the family of materials that they are interested in and subsequently collect their material IDs and formulas. \n",
    "        perovskites, anti-perovskites, transition metal nitrides and transition metal carbides have been provided for starters, \n",
    "        More families can be added as one desires. \n",
    "        '''\n",
    "\n",
    "        perovskites = m.query(criteria={'formula_anonymous':\"ABC3\", 'elements':{'$in':['Ba', 'Sr', 'Ca'], \"$all\":['Ti', 'O']}}, properties = ['task_id', 'pretty_formula'])\n",
    "        anti_perovskites = m.query(criteria={'formula_anonymous':'A3BC', 'elements':{'$in':['Ba', 'Sr', 'Ca'], \"$all\":['Sn', 'O']}}, properties=['task_id', 'pretty_formula'])\n",
    "        tmns = m.query(criteria = {'formula_anonymous':'AB', 'elements':{'$in':['Y', 'Zr', 'Nb', 'Mo', 'Tc', 'Ru','Rh', 'Rb', 'Pd', 'Ag', 'Cd'], \"$all\":['N']}}, properties=['task_id', 'pretty_formula'])\n",
    "        tmcs = m.query(criteria={'formula_anonymous':'AB', 'elements':{'$in':['Y', 'Zr', 'Nb', 'Mo', 'Tc', 'Ru', 'Rb','Rh', 'Pd', 'Ag', 'Cd'], \"$all\":['C']}}, properties=['task_id', 'pretty_formula'])\n",
    "        perovskites_df, anti_perovskites_df, tmns_df, tmcs_df = pd.DataFrame(perovskites), pd.DataFrame(anti_perovskites), pd.DataFrame(tmns), pd.DataFrame(tmcs)\n",
    "        return perovskites_df, anti_perovskites_df, tmns_df, tmcs_df\n",
    "    def get_properties(self,family):\n",
    "        '''\n",
    "        This function takes in a family of perovskites from the data frames created in the materialsclass function. \n",
    "        It then iterates through every id in the dataframe and obtains the final energy, the bandgap, density, energy and possion ratio\n",
    "        \n",
    "        '''\n",
    "        family_ids = family.iloc[:, 0].values\n",
    "        fenergy=[];  gap=[]; density=[] ; energy_p=[] ;  ratio=[]\n",
    "        for num, i in enumerate(family_ids):\n",
    "\n",
    "            properties = m.query(criteria={'task_id': i}, properties=['final_energy', 'band_gap', 'density', 'energy_per_atom', 'poisson_ratio'])\n",
    "            fenergy.append(properties[0]['final_energy'])\n",
    "            gap.append(properties[0]['band_gap'])\n",
    "            density.append(properties[0]['density'])\n",
    "            energy_p.append(properties[0]['energy_per_atom'])\n",
    "            ratio.append(properties[0]['poisson_ratio'])\n",
    "        family['final_energy'] = fenergy\n",
    "        family['band_gap'] = gap\n",
    "        family['density'] = density\n",
    "        family['energy'] = energy_p\n",
    "        family['poisson_ratio'] = ratio\n",
    "        return family\n",
    "    def save_to_csv(self,family):\n",
    "        '''\n",
    "        This function simply takes the dataframe created from the get_properties function and saves it as a csv file for any further use\n",
    "        '''\n",
    "        family_name = family\n",
    "        csv_file = family.to_csv('family.csv') #This will be edited depending on the material family being used\n",
    "        return csv_file\n"
   ]
  },
  {
   "cell_type": "code",
   "execution_count": 3,
   "metadata": {},
   "outputs": [
    {
     "data": {
      "text/html": [
       "<div>\n",
       "<style scoped>\n",
       "    .dataframe tbody tr th:only-of-type {\n",
       "        vertical-align: middle;\n",
       "    }\n",
       "\n",
       "    .dataframe tbody tr th {\n",
       "        vertical-align: top;\n",
       "    }\n",
       "\n",
       "    .dataframe thead th {\n",
       "        text-align: right;\n",
       "    }\n",
       "</style>\n",
       "<table border=\"1\" class=\"dataframe\">\n",
       "  <thead>\n",
       "    <tr style=\"text-align: right;\">\n",
       "      <th></th>\n",
       "      <th>task_id</th>\n",
       "      <th>pretty_formula</th>\n",
       "    </tr>\n",
       "  </thead>\n",
       "  <tbody>\n",
       "    <tr>\n",
       "      <th>0</th>\n",
       "      <td>mvc-14624</td>\n",
       "      <td>MoN</td>\n",
       "    </tr>\n",
       "    <tr>\n",
       "      <th>1</th>\n",
       "      <td>mp-1009548</td>\n",
       "      <td>PdN</td>\n",
       "    </tr>\n",
       "    <tr>\n",
       "      <th>2</th>\n",
       "      <td>mp-1065394</td>\n",
       "      <td>MoN</td>\n",
       "    </tr>\n",
       "    <tr>\n",
       "      <th>3</th>\n",
       "      <td>mp-1067644</td>\n",
       "      <td>PdN</td>\n",
       "    </tr>\n",
       "    <tr>\n",
       "      <th>4</th>\n",
       "      <td>mp-13126</td>\n",
       "      <td>ZrN</td>\n",
       "    </tr>\n",
       "  </tbody>\n",
       "</table>\n",
       "</div>"
      ],
      "text/plain": [
       "      task_id pretty_formula\n",
       "0   mvc-14624            MoN\n",
       "1  mp-1009548            PdN\n",
       "2  mp-1065394            MoN\n",
       "3  mp-1067644            PdN\n",
       "4    mp-13126            ZrN"
      ]
     },
     "execution_count": 3,
     "metadata": {},
     "output_type": "execute_result"
    }
   ],
   "source": [
    "mat_miner = MaterialsMiner()\n",
    "perovs, anti_perovs, tmns, tmcs = mat_miner.materials_class()\n",
    "tmns.head()\n"
   ]
  },
  {
   "cell_type": "code",
   "execution_count": 4,
   "metadata": {},
   "outputs": [
    {
     "data": {
      "text/html": [
       "<div>\n",
       "<style scoped>\n",
       "    .dataframe tbody tr th:only-of-type {\n",
       "        vertical-align: middle;\n",
       "    }\n",
       "\n",
       "    .dataframe tbody tr th {\n",
       "        vertical-align: top;\n",
       "    }\n",
       "\n",
       "    .dataframe thead th {\n",
       "        text-align: right;\n",
       "    }\n",
       "</style>\n",
       "<table border=\"1\" class=\"dataframe\">\n",
       "  <thead>\n",
       "    <tr style=\"text-align: right;\">\n",
       "      <th></th>\n",
       "      <th>task_id</th>\n",
       "      <th>pretty_formula</th>\n",
       "    </tr>\n",
       "  </thead>\n",
       "  <tbody>\n",
       "    <tr>\n",
       "      <th>0</th>\n",
       "      <td>mp-910</td>\n",
       "      <td>NbC</td>\n",
       "    </tr>\n",
       "    <tr>\n",
       "      <th>1</th>\n",
       "      <td>mp-1009837</td>\n",
       "      <td>TcC</td>\n",
       "    </tr>\n",
       "    <tr>\n",
       "      <th>2</th>\n",
       "      <td>mp-1009878</td>\n",
       "      <td>ZrC</td>\n",
       "    </tr>\n",
       "    <tr>\n",
       "      <th>3</th>\n",
       "      <td>mp-10030</td>\n",
       "      <td>RuC</td>\n",
       "    </tr>\n",
       "    <tr>\n",
       "      <th>4</th>\n",
       "      <td>mp-1009652</td>\n",
       "      <td>RhC</td>\n",
       "    </tr>\n",
       "  </tbody>\n",
       "</table>\n",
       "</div>"
      ],
      "text/plain": [
       "      task_id pretty_formula\n",
       "0      mp-910            NbC\n",
       "1  mp-1009837            TcC\n",
       "2  mp-1009878            ZrC\n",
       "3    mp-10030            RuC\n",
       "4  mp-1009652            RhC"
      ]
     },
     "execution_count": 4,
     "metadata": {},
     "output_type": "execute_result"
    }
   ],
   "source": [
    "tmcs.head()"
   ]
  },
  {
   "cell_type": "code",
   "execution_count": 5,
   "metadata": {},
   "outputs": [
    {
     "data": {
      "text/html": [
       "<div>\n",
       "<style scoped>\n",
       "    .dataframe tbody tr th:only-of-type {\n",
       "        vertical-align: middle;\n",
       "    }\n",
       "\n",
       "    .dataframe tbody tr th {\n",
       "        vertical-align: top;\n",
       "    }\n",
       "\n",
       "    .dataframe thead th {\n",
       "        text-align: right;\n",
       "    }\n",
       "</style>\n",
       "<table border=\"1\" class=\"dataframe\">\n",
       "  <thead>\n",
       "    <tr style=\"text-align: right;\">\n",
       "      <th></th>\n",
       "      <th>task_id</th>\n",
       "      <th>pretty_formula</th>\n",
       "      <th>final_energy</th>\n",
       "      <th>band_gap</th>\n",
       "      <th>density</th>\n",
       "      <th>energy</th>\n",
       "      <th>poisson_ratio</th>\n",
       "    </tr>\n",
       "  </thead>\n",
       "  <tbody>\n",
       "    <tr>\n",
       "      <th>0</th>\n",
       "      <td>mvc-14624</td>\n",
       "      <td>MoN</td>\n",
       "      <td>-38.807335</td>\n",
       "      <td>0.0</td>\n",
       "      <td>7.646723</td>\n",
       "      <td>-9.701834</td>\n",
       "      <td>None</td>\n",
       "    </tr>\n",
       "    <tr>\n",
       "      <th>1</th>\n",
       "      <td>mp-1009548</td>\n",
       "      <td>PdN</td>\n",
       "      <td>-11.250518</td>\n",
       "      <td>0.0</td>\n",
       "      <td>9.122720</td>\n",
       "      <td>-5.625259</td>\n",
       "      <td>None</td>\n",
       "    </tr>\n",
       "    <tr>\n",
       "      <th>2</th>\n",
       "      <td>mp-1065394</td>\n",
       "      <td>MoN</td>\n",
       "      <td>-39.775364</td>\n",
       "      <td>0.0</td>\n",
       "      <td>8.966646</td>\n",
       "      <td>-9.943841</td>\n",
       "      <td>None</td>\n",
       "    </tr>\n",
       "    <tr>\n",
       "      <th>3</th>\n",
       "      <td>mp-1067644</td>\n",
       "      <td>PdN</td>\n",
       "      <td>-21.571676</td>\n",
       "      <td>0.0</td>\n",
       "      <td>4.474094</td>\n",
       "      <td>-5.392919</td>\n",
       "      <td>None</td>\n",
       "    </tr>\n",
       "    <tr>\n",
       "      <th>4</th>\n",
       "      <td>mp-13126</td>\n",
       "      <td>ZrN</td>\n",
       "      <td>-38.693013</td>\n",
       "      <td>0.0</td>\n",
       "      <td>5.639729</td>\n",
       "      <td>-9.673253</td>\n",
       "      <td>None</td>\n",
       "    </tr>\n",
       "  </tbody>\n",
       "</table>\n",
       "</div>"
      ],
      "text/plain": [
       "      task_id pretty_formula  final_energy  band_gap   density    energy  \\\n",
       "0   mvc-14624            MoN    -38.807335       0.0  7.646723 -9.701834   \n",
       "1  mp-1009548            PdN    -11.250518       0.0  9.122720 -5.625259   \n",
       "2  mp-1065394            MoN    -39.775364       0.0  8.966646 -9.943841   \n",
       "3  mp-1067644            PdN    -21.571676       0.0  4.474094 -5.392919   \n",
       "4    mp-13126            ZrN    -38.693013       0.0  5.639729 -9.673253   \n",
       "\n",
       "  poisson_ratio  \n",
       "0          None  \n",
       "1          None  \n",
       "2          None  \n",
       "3          None  \n",
       "4          None  "
      ]
     },
     "execution_count": 5,
     "metadata": {},
     "output_type": "execute_result"
    }
   ],
   "source": [
    "tmns_df = mat_miner.get_properties(tmns)\n",
    "tmcs_df = mat_miner.get_properties(tmcs)\n",
    "deep_learning_data = pd.concat([tmns_df, tmcs_df]).reset_index(drop=True)\n",
    "deep_learning_data.head()"
   ]
  },
  {
   "cell_type": "code",
   "execution_count": 7,
   "metadata": {},
   "outputs": [
    {
     "data": {
      "text/plain": [
       "Index(['task_id', 'pretty_formula', 'final_energy', 'band_gap', 'density',\n",
       "       'energy', 'poisson_ratio'],\n",
       "      dtype='object')"
      ]
     },
     "execution_count": 7,
     "metadata": {},
     "output_type": "execute_result"
    }
   ],
   "source": [
    "deep_learning_data.columns"
   ]
  },
  {
   "cell_type": "code",
   "execution_count": 14,
   "metadata": {},
   "outputs": [],
   "source": [
    "ids = deep_learning_data['task_id'].values\n",
    "structures = []\n",
    "for num, i in enumerate(ids):\n",
    "    structure = m.get_structure_by_material_id(i)\n",
    "    structures.append(structure)\n"
   ]
  },
  {
   "cell_type": "code",
   "execution_count": 15,
   "metadata": {},
   "outputs": [],
   "source": [
    "with open('structures.txt', 'w') as f:\n",
    "    for item in structures:\n",
    "        f.write(\"%s\\n\" % item)"
   ]
  },
  {
   "cell_type": "code",
   "execution_count": 16,
   "metadata": {},
   "outputs": [],
   "source": [
    "deep_learning_data.to_csv('transition_metal_carbides_nitrides.csv')"
   ]
  },
  {
   "cell_type": "code",
   "execution_count": null,
   "metadata": {},
   "outputs": [],
   "source": []
  }
 ],
 "metadata": {
  "kernelspec": {
   "display_name": "Python 3",
   "language": "python",
   "name": "python3"
  },
  "language_info": {
   "codemirror_mode": {
    "name": "ipython",
    "version": 3
   },
   "file_extension": ".py",
   "mimetype": "text/x-python",
   "name": "python",
   "nbconvert_exporter": "python",
   "pygments_lexer": "ipython3",
   "version": "3.6.9"
  }
 },
 "nbformat": 4,
 "nbformat_minor": 4
}
